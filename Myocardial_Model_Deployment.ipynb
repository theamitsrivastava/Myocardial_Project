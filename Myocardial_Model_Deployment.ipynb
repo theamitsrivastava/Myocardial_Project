{
 "cells": [
  {
   "cell_type": "code",
   "execution_count": 42,
   "metadata": {
    "ExecuteTime": {
     "end_time": "2021-09-21T14:52:32.280000Z",
     "start_time": "2021-09-21T14:52:32.254195Z"
    }
   },
   "outputs": [],
   "source": [
    "import numpy as np \n",
    "import pandas as pd \n",
    "import matplotlib.pyplot as plt\n",
    "import warnings\n",
    "warnings.filterwarnings('ignore')\n",
    "warnings.simplefilter('ignore')\n",
    "from sklearn.impute import SimpleImputer"
   ]
  },
  {
   "cell_type": "code",
   "execution_count": 43,
   "metadata": {
    "ExecuteTime": {
     "end_time": "2021-09-21T14:52:33.115743Z",
     "start_time": "2021-09-21T14:52:32.939131Z"
    }
   },
   "outputs": [],
   "source": [
    "data = pd.read_csv('Myocardial_infarction_complications.csv')"
   ]
  },
  {
   "cell_type": "code",
   "execution_count": 44,
   "metadata": {
    "ExecuteTime": {
     "end_time": "2021-09-21T14:52:33.831555Z",
     "start_time": "2021-09-21T14:52:33.743971Z"
    }
   },
   "outputs": [],
   "source": [
    "imputer = SimpleImputer(strategy='median')\n",
    "df_imputed = pd.DataFrame(imputer.fit_transform(data))\n",
    "\n",
    "# Imputation removed column names hence, getting back the names\n",
    "df_imputed.columns = data.columns"
   ]
  },
  {
   "cell_type": "code",
   "execution_count": 45,
   "metadata": {
    "ExecuteTime": {
     "end_time": "2021-09-21T14:52:36.843417Z",
     "start_time": "2021-09-21T14:52:36.710833Z"
    }
   },
   "outputs": [
    {
     "data": {
      "text/html": [
       "<div>\n",
       "<style scoped>\n",
       "    .dataframe tbody tr th:only-of-type {\n",
       "        vertical-align: middle;\n",
       "    }\n",
       "\n",
       "    .dataframe tbody tr th {\n",
       "        vertical-align: top;\n",
       "    }\n",
       "\n",
       "    .dataframe thead th {\n",
       "        text-align: right;\n",
       "    }\n",
       "</style>\n",
       "<table border=\"1\" class=\"dataframe\">\n",
       "  <thead>\n",
       "    <tr style=\"text-align: right;\">\n",
       "      <th></th>\n",
       "      <th>AGE</th>\n",
       "      <th>STENOK_AN</th>\n",
       "      <th>FK_STENOK</th>\n",
       "      <th>IBS_POST</th>\n",
       "      <th>ZSN_A</th>\n",
       "      <th>nr_04</th>\n",
       "      <th>S_AD_KBRIG</th>\n",
       "      <th>D_AD_KBRIG</th>\n",
       "      <th>S_AD_ORIT</th>\n",
       "      <th>D_AD_ORIT</th>\n",
       "      <th>...</th>\n",
       "      <th>NA_KB</th>\n",
       "      <th>NOT_NA_KB</th>\n",
       "      <th>NITR_S</th>\n",
       "      <th>NA_R_1_n</th>\n",
       "      <th>GEPAR_S_n</th>\n",
       "      <th>RAZRIV</th>\n",
       "      <th>DRESSLER</th>\n",
       "      <th>ZSN</th>\n",
       "      <th>REC_IM</th>\n",
       "      <th>LET_IS</th>\n",
       "    </tr>\n",
       "  </thead>\n",
       "  <tbody>\n",
       "    <tr>\n",
       "      <th>0</th>\n",
       "      <td>77.0</td>\n",
       "      <td>1.0</td>\n",
       "      <td>1.0</td>\n",
       "      <td>2.0</td>\n",
       "      <td>0.0</td>\n",
       "      <td>0.0</td>\n",
       "      <td>140.0</td>\n",
       "      <td>80.0</td>\n",
       "      <td>180.0</td>\n",
       "      <td>100.0</td>\n",
       "      <td>...</td>\n",
       "      <td>1.0</td>\n",
       "      <td>1.0</td>\n",
       "      <td>0.0</td>\n",
       "      <td>0.0</td>\n",
       "      <td>1.0</td>\n",
       "      <td>0.0</td>\n",
       "      <td>0.0</td>\n",
       "      <td>0.0</td>\n",
       "      <td>0.0</td>\n",
       "      <td>0.0</td>\n",
       "    </tr>\n",
       "    <tr>\n",
       "      <th>1</th>\n",
       "      <td>55.0</td>\n",
       "      <td>0.0</td>\n",
       "      <td>0.0</td>\n",
       "      <td>0.0</td>\n",
       "      <td>0.0</td>\n",
       "      <td>0.0</td>\n",
       "      <td>140.0</td>\n",
       "      <td>80.0</td>\n",
       "      <td>120.0</td>\n",
       "      <td>90.0</td>\n",
       "      <td>...</td>\n",
       "      <td>1.0</td>\n",
       "      <td>0.0</td>\n",
       "      <td>0.0</td>\n",
       "      <td>0.0</td>\n",
       "      <td>1.0</td>\n",
       "      <td>0.0</td>\n",
       "      <td>0.0</td>\n",
       "      <td>0.0</td>\n",
       "      <td>0.0</td>\n",
       "      <td>0.0</td>\n",
       "    </tr>\n",
       "    <tr>\n",
       "      <th>2</th>\n",
       "      <td>52.0</td>\n",
       "      <td>0.0</td>\n",
       "      <td>0.0</td>\n",
       "      <td>2.0</td>\n",
       "      <td>0.0</td>\n",
       "      <td>0.0</td>\n",
       "      <td>150.0</td>\n",
       "      <td>100.0</td>\n",
       "      <td>180.0</td>\n",
       "      <td>100.0</td>\n",
       "      <td>...</td>\n",
       "      <td>1.0</td>\n",
       "      <td>1.0</td>\n",
       "      <td>0.0</td>\n",
       "      <td>1.0</td>\n",
       "      <td>1.0</td>\n",
       "      <td>0.0</td>\n",
       "      <td>0.0</td>\n",
       "      <td>0.0</td>\n",
       "      <td>0.0</td>\n",
       "      <td>0.0</td>\n",
       "    </tr>\n",
       "    <tr>\n",
       "      <th>3</th>\n",
       "      <td>68.0</td>\n",
       "      <td>0.0</td>\n",
       "      <td>0.0</td>\n",
       "      <td>2.0</td>\n",
       "      <td>1.0</td>\n",
       "      <td>0.0</td>\n",
       "      <td>140.0</td>\n",
       "      <td>80.0</td>\n",
       "      <td>120.0</td>\n",
       "      <td>70.0</td>\n",
       "      <td>...</td>\n",
       "      <td>1.0</td>\n",
       "      <td>1.0</td>\n",
       "      <td>0.0</td>\n",
       "      <td>0.0</td>\n",
       "      <td>1.0</td>\n",
       "      <td>0.0</td>\n",
       "      <td>0.0</td>\n",
       "      <td>1.0</td>\n",
       "      <td>0.0</td>\n",
       "      <td>0.0</td>\n",
       "    </tr>\n",
       "    <tr>\n",
       "      <th>4</th>\n",
       "      <td>60.0</td>\n",
       "      <td>0.0</td>\n",
       "      <td>0.0</td>\n",
       "      <td>2.0</td>\n",
       "      <td>0.0</td>\n",
       "      <td>0.0</td>\n",
       "      <td>190.0</td>\n",
       "      <td>100.0</td>\n",
       "      <td>160.0</td>\n",
       "      <td>90.0</td>\n",
       "      <td>...</td>\n",
       "      <td>0.0</td>\n",
       "      <td>0.0</td>\n",
       "      <td>0.0</td>\n",
       "      <td>0.0</td>\n",
       "      <td>0.0</td>\n",
       "      <td>0.0</td>\n",
       "      <td>0.0</td>\n",
       "      <td>0.0</td>\n",
       "      <td>0.0</td>\n",
       "      <td>0.0</td>\n",
       "    </tr>\n",
       "    <tr>\n",
       "      <th>...</th>\n",
       "      <td>...</td>\n",
       "      <td>...</td>\n",
       "      <td>...</td>\n",
       "      <td>...</td>\n",
       "      <td>...</td>\n",
       "      <td>...</td>\n",
       "      <td>...</td>\n",
       "      <td>...</td>\n",
       "      <td>...</td>\n",
       "      <td>...</td>\n",
       "      <td>...</td>\n",
       "      <td>...</td>\n",
       "      <td>...</td>\n",
       "      <td>...</td>\n",
       "      <td>...</td>\n",
       "      <td>...</td>\n",
       "      <td>...</td>\n",
       "      <td>...</td>\n",
       "      <td>...</td>\n",
       "      <td>...</td>\n",
       "      <td>...</td>\n",
       "    </tr>\n",
       "    <tr>\n",
       "      <th>1695</th>\n",
       "      <td>77.0</td>\n",
       "      <td>4.0</td>\n",
       "      <td>2.0</td>\n",
       "      <td>1.0</td>\n",
       "      <td>0.0</td>\n",
       "      <td>0.0</td>\n",
       "      <td>140.0</td>\n",
       "      <td>80.0</td>\n",
       "      <td>110.0</td>\n",
       "      <td>70.0</td>\n",
       "      <td>...</td>\n",
       "      <td>1.0</td>\n",
       "      <td>1.0</td>\n",
       "      <td>0.0</td>\n",
       "      <td>0.0</td>\n",
       "      <td>0.0</td>\n",
       "      <td>1.0</td>\n",
       "      <td>0.0</td>\n",
       "      <td>0.0</td>\n",
       "      <td>0.0</td>\n",
       "      <td>3.0</td>\n",
       "    </tr>\n",
       "    <tr>\n",
       "      <th>1696</th>\n",
       "      <td>70.0</td>\n",
       "      <td>6.0</td>\n",
       "      <td>2.0</td>\n",
       "      <td>1.0</td>\n",
       "      <td>0.0</td>\n",
       "      <td>0.0</td>\n",
       "      <td>140.0</td>\n",
       "      <td>80.0</td>\n",
       "      <td>50.0</td>\n",
       "      <td>0.0</td>\n",
       "      <td>...</td>\n",
       "      <td>1.0</td>\n",
       "      <td>1.0</td>\n",
       "      <td>0.0</td>\n",
       "      <td>0.0</td>\n",
       "      <td>0.0</td>\n",
       "      <td>0.0</td>\n",
       "      <td>0.0</td>\n",
       "      <td>0.0</td>\n",
       "      <td>0.0</td>\n",
       "      <td>1.0</td>\n",
       "    </tr>\n",
       "    <tr>\n",
       "      <th>1697</th>\n",
       "      <td>55.0</td>\n",
       "      <td>6.0</td>\n",
       "      <td>2.0</td>\n",
       "      <td>2.0</td>\n",
       "      <td>0.0</td>\n",
       "      <td>0.0</td>\n",
       "      <td>140.0</td>\n",
       "      <td>80.0</td>\n",
       "      <td>70.0</td>\n",
       "      <td>50.0</td>\n",
       "      <td>...</td>\n",
       "      <td>1.0</td>\n",
       "      <td>1.0</td>\n",
       "      <td>1.0</td>\n",
       "      <td>2.0</td>\n",
       "      <td>1.0</td>\n",
       "      <td>0.0</td>\n",
       "      <td>0.0</td>\n",
       "      <td>0.0</td>\n",
       "      <td>1.0</td>\n",
       "      <td>6.0</td>\n",
       "    </tr>\n",
       "    <tr>\n",
       "      <th>1698</th>\n",
       "      <td>79.0</td>\n",
       "      <td>2.0</td>\n",
       "      <td>2.0</td>\n",
       "      <td>1.0</td>\n",
       "      <td>0.0</td>\n",
       "      <td>1.0</td>\n",
       "      <td>140.0</td>\n",
       "      <td>80.0</td>\n",
       "      <td>110.0</td>\n",
       "      <td>70.0</td>\n",
       "      <td>...</td>\n",
       "      <td>1.0</td>\n",
       "      <td>0.0</td>\n",
       "      <td>1.0</td>\n",
       "      <td>2.0</td>\n",
       "      <td>1.0</td>\n",
       "      <td>0.0</td>\n",
       "      <td>0.0</td>\n",
       "      <td>0.0</td>\n",
       "      <td>0.0</td>\n",
       "      <td>1.0</td>\n",
       "    </tr>\n",
       "    <tr>\n",
       "      <th>1699</th>\n",
       "      <td>63.0</td>\n",
       "      <td>1.0</td>\n",
       "      <td>2.0</td>\n",
       "      <td>1.0</td>\n",
       "      <td>4.0</td>\n",
       "      <td>0.0</td>\n",
       "      <td>140.0</td>\n",
       "      <td>80.0</td>\n",
       "      <td>0.0</td>\n",
       "      <td>0.0</td>\n",
       "      <td>...</td>\n",
       "      <td>1.0</td>\n",
       "      <td>1.0</td>\n",
       "      <td>1.0</td>\n",
       "      <td>0.0</td>\n",
       "      <td>0.0</td>\n",
       "      <td>0.0</td>\n",
       "      <td>0.0</td>\n",
       "      <td>0.0</td>\n",
       "      <td>0.0</td>\n",
       "      <td>1.0</td>\n",
       "    </tr>\n",
       "  </tbody>\n",
       "</table>\n",
       "<p>1700 rows × 36 columns</p>\n",
       "</div>"
      ],
      "text/plain": [
       "       AGE  STENOK_AN  FK_STENOK  IBS_POST  ZSN_A  nr_04  S_AD_KBRIG  \\\n",
       "0     77.0        1.0        1.0       2.0    0.0    0.0       140.0   \n",
       "1     55.0        0.0        0.0       0.0    0.0    0.0       140.0   \n",
       "2     52.0        0.0        0.0       2.0    0.0    0.0       150.0   \n",
       "3     68.0        0.0        0.0       2.0    1.0    0.0       140.0   \n",
       "4     60.0        0.0        0.0       2.0    0.0    0.0       190.0   \n",
       "...    ...        ...        ...       ...    ...    ...         ...   \n",
       "1695  77.0        4.0        2.0       1.0    0.0    0.0       140.0   \n",
       "1696  70.0        6.0        2.0       1.0    0.0    0.0       140.0   \n",
       "1697  55.0        6.0        2.0       2.0    0.0    0.0       140.0   \n",
       "1698  79.0        2.0        2.0       1.0    0.0    1.0       140.0   \n",
       "1699  63.0        1.0        2.0       1.0    4.0    0.0       140.0   \n",
       "\n",
       "      D_AD_KBRIG  S_AD_ORIT  D_AD_ORIT  ...  NA_KB  NOT_NA_KB  NITR_S  \\\n",
       "0           80.0      180.0      100.0  ...    1.0        1.0     0.0   \n",
       "1           80.0      120.0       90.0  ...    1.0        0.0     0.0   \n",
       "2          100.0      180.0      100.0  ...    1.0        1.0     0.0   \n",
       "3           80.0      120.0       70.0  ...    1.0        1.0     0.0   \n",
       "4          100.0      160.0       90.0  ...    0.0        0.0     0.0   \n",
       "...          ...        ...        ...  ...    ...        ...     ...   \n",
       "1695        80.0      110.0       70.0  ...    1.0        1.0     0.0   \n",
       "1696        80.0       50.0        0.0  ...    1.0        1.0     0.0   \n",
       "1697        80.0       70.0       50.0  ...    1.0        1.0     1.0   \n",
       "1698        80.0      110.0       70.0  ...    1.0        0.0     1.0   \n",
       "1699        80.0        0.0        0.0  ...    1.0        1.0     1.0   \n",
       "\n",
       "      NA_R_1_n  GEPAR_S_n  RAZRIV  DRESSLER  ZSN  REC_IM  LET_IS  \n",
       "0          0.0        1.0     0.0       0.0  0.0     0.0     0.0  \n",
       "1          0.0        1.0     0.0       0.0  0.0     0.0     0.0  \n",
       "2          1.0        1.0     0.0       0.0  0.0     0.0     0.0  \n",
       "3          0.0        1.0     0.0       0.0  1.0     0.0     0.0  \n",
       "4          0.0        0.0     0.0       0.0  0.0     0.0     0.0  \n",
       "...        ...        ...     ...       ...  ...     ...     ...  \n",
       "1695       0.0        0.0     1.0       0.0  0.0     0.0     3.0  \n",
       "1696       0.0        0.0     0.0       0.0  0.0     0.0     1.0  \n",
       "1697       2.0        1.0     0.0       0.0  0.0     1.0     6.0  \n",
       "1698       2.0        1.0     0.0       0.0  0.0     0.0     1.0  \n",
       "1699       0.0        0.0     0.0       0.0  0.0     0.0     1.0  \n",
       "\n",
       "[1700 rows x 36 columns]"
      ]
     },
     "execution_count": 45,
     "metadata": {},
     "output_type": "execute_result"
    }
   ],
   "source": [
    "DC_Data = df_imputed[['AGE' ,'STENOK_AN' , 'FK_STENOK' ,'IBS_POST' ,'ZSN_A', 'nr_04' , 'S_AD_KBRIG' , 'D_AD_KBRIG',\n",
    "'S_AD_ORIT' , 'D_AD_ORIT' , 'K_SH_POST' ,'ant_im' , 'lat_im' , 'ritm_ecg_p_07' , 'n_r_ecg_p_04' , 'n_p_ecg_p_10' , \n",
    "'n_p_ecg_p_12' ,'K_BLOOD' ,'NA_BLOOD' ,'ALT_BLOOD','AST_BLOOD' ,'L_BLOOD' , 'ROE' , 'TIME_B_S' , 'R_AB_1_n' , 'R_AB_3_n' \n",
    ",'NA_KB','NOT_NA_KB', 'NITR_S' , 'NA_R_1_n' , 'GEPAR_S_n' ,'RAZRIV' ,'DRESSLER' ,'ZSN','REC_IM','LET_IS']]\n",
    "DC_Data"
   ]
  },
  {
   "cell_type": "code",
   "execution_count": 72,
   "metadata": {
    "ExecuteTime": {
     "end_time": "2021-09-22T00:01:36.493705Z",
     "start_time": "2021-09-22T00:01:36.484492Z"
    }
   },
   "outputs": [
    {
     "data": {
      "text/plain": [
       "(1700, 36)"
      ]
     },
     "execution_count": 72,
     "metadata": {},
     "output_type": "execute_result"
    }
   ],
   "source": [
    "DC_Data.shape"
   ]
  },
  {
   "cell_type": "code",
   "execution_count": 70,
   "metadata": {
    "ExecuteTime": {
     "end_time": "2021-09-21T23:52:01.861602Z",
     "start_time": "2021-09-21T23:52:01.818904Z"
    }
   },
   "outputs": [
    {
     "data": {
      "text/plain": [
       "(1700, 35)"
      ]
     },
     "execution_count": 70,
     "metadata": {},
     "output_type": "execute_result"
    }
   ],
   "source": [
    "#array = DC_Data.values\n",
    "X = DC_Data.loc[:, DC_Data.columns != 'LET_IS']\n",
    "X.head()\n",
    "\n",
    "#X = array[:,0:35]\n",
    "#Y = array[:,35]\n",
    "X.shape"
   ]
  },
  {
   "cell_type": "code",
   "execution_count": 47,
   "metadata": {
    "ExecuteTime": {
     "end_time": "2021-09-21T14:54:26.560911Z",
     "start_time": "2021-09-21T14:54:26.539303Z"
    }
   },
   "outputs": [
    {
     "data": {
      "text/plain": [
       "0    0.0\n",
       "1    0.0\n",
       "2    0.0\n",
       "3    0.0\n",
       "4    0.0\n",
       "Name: LET_IS, dtype: float64"
      ]
     },
     "execution_count": 47,
     "metadata": {},
     "output_type": "execute_result"
    }
   ],
   "source": [
    "Y = DC_Data['LET_IS']\n",
    "Y.head()"
   ]
  },
  {
   "cell_type": "code",
   "execution_count": 48,
   "metadata": {
    "ExecuteTime": {
     "end_time": "2021-09-21T14:55:20.704587Z",
     "start_time": "2021-09-21T14:55:20.672713Z"
    }
   },
   "outputs": [],
   "source": [
    "from sklearn.model_selection  import  train_test_split\n",
    "x_train , x_test , y_train , y_test = train_test_split(X , Y , test_size = 0.25, random_state = 0)"
   ]
  },
  {
   "cell_type": "code",
   "execution_count": 56,
   "metadata": {
    "ExecuteTime": {
     "end_time": "2021-09-21T14:57:03.364010Z",
     "start_time": "2021-09-21T14:57:03.356965Z"
    }
   },
   "outputs": [
    {
     "name": "stdout",
     "output_type": "stream",
     "text": [
      "(425, 35)\n"
     ]
    }
   ],
   "source": [
    "print(x_test.shape)"
   ]
  },
  {
   "cell_type": "code",
   "execution_count": 49,
   "metadata": {
    "ExecuteTime": {
     "end_time": "2021-09-21T14:55:23.181248Z",
     "start_time": "2021-09-21T14:55:22.766061Z"
    }
   },
   "outputs": [
    {
     "name": "stdout",
     "output_type": "stream",
     "text": [
      "0.8902312992125984\n"
     ]
    }
   ],
   "source": [
    "# Random Forest Classification\n",
    "from sklearn.model_selection import KFold\n",
    "from sklearn.model_selection import cross_val_score\n",
    "from sklearn.ensemble import RandomForestClassifier\n",
    "num_trees = 10\n",
    "model_rf = RandomForestClassifier(n_estimators = num_trees, criterion = 'entropy', random_state = 0)\n",
    "results_rf = cross_val_score(model_rf, x_train, y_train, cv=10)\n",
    "print(results_rf.mean())"
   ]
  },
  {
   "cell_type": "code",
   "execution_count": 50,
   "metadata": {
    "ExecuteTime": {
     "end_time": "2021-09-21T14:55:29.873247Z",
     "start_time": "2021-09-21T14:55:29.802436Z"
    }
   },
   "outputs": [
    {
     "data": {
      "text/plain": [
       "RandomForestClassifier(criterion='entropy', n_estimators=10, random_state=0)"
      ]
     },
     "execution_count": 50,
     "metadata": {},
     "output_type": "execute_result"
    }
   ],
   "source": [
    "model_rf.fit(x_train, y_train)"
   ]
  },
  {
   "cell_type": "code",
   "execution_count": 51,
   "metadata": {
    "ExecuteTime": {
     "end_time": "2021-09-21T14:55:31.383316Z",
     "start_time": "2021-09-21T14:55:31.360387Z"
    }
   },
   "outputs": [],
   "source": [
    "#Predict for X dataset\n",
    "y_pred_rf = model_rf.predict(x_test)"
   ]
  },
  {
   "cell_type": "code",
   "execution_count": 52,
   "metadata": {
    "ExecuteTime": {
     "end_time": "2021-09-21T14:55:35.069751Z",
     "start_time": "2021-09-21T14:55:34.498104Z"
    }
   },
   "outputs": [
    {
     "data": {
      "text/plain": [
       "Text(69.0, 0.5, 'Truth')"
      ]
     },
     "execution_count": 52,
     "metadata": {},
     "output_type": "execute_result"
    },
    {
     "data": {
      "image/png": "[encoded data removed]",
      "text/plain": [
       "<Figure size 720x504 with 2 Axes>"
      ]
     },
     "metadata": {
      "needs_background": "light"
     },
     "output_type": "display_data"
    }
   ],
   "source": [
    "# Confusion Matrix for the model accuracy\n",
    "from sklearn.metrics import confusion_matrix, accuracy_score\n",
    "cm_rf = confusion_matrix(y_test,y_pred_rf)\n",
    "import seaborn as sn\n",
    "plt.figure(figsize = (10,7))\n",
    "sn.heatmap(cm_rf, annot=True, fmt='d')\n",
    "plt.xlabel('Predicted')\n",
    "plt.ylabel('Truth')"
   ]
  },
  {
   "cell_type": "code",
   "execution_count": 53,
   "metadata": {
    "ExecuteTime": {
     "end_time": "2021-09-21T14:55:41.705668Z",
     "start_time": "2021-09-21T14:55:41.687720Z"
    }
   },
   "outputs": [
    {
     "name": "stdout",
     "output_type": "stream",
     "text": [
      "0.8964705882352941\n"
     ]
    }
   ],
   "source": [
    "print(accuracy_score(y_test , y_pred_rf))"
   ]
  },
  {
   "cell_type": "code",
   "execution_count": 54,
   "metadata": {
    "ExecuteTime": {
     "end_time": "2021-09-21T14:55:43.534569Z",
     "start_time": "2021-09-21T14:55:43.511183Z"
    }
   },
   "outputs": [
    {
     "name": "stdout",
     "output_type": "stream",
     "text": [
      "              precision    recall  f1-score   support\n",
      "\n",
      "         0.0       0.90      0.99      0.94       359\n",
      "         1.0       0.79      0.44      0.56        25\n",
      "         2.0       0.00      0.00      0.00         7\n",
      "         3.0       1.00      1.00      1.00        12\n",
      "         4.0       1.00      0.14      0.25         7\n",
      "         5.0       0.00      0.00      0.00         2\n",
      "         6.0       0.00      0.00      0.00         6\n",
      "         7.0       0.00      0.00      0.00         7\n",
      "\n",
      "    accuracy                           0.90       425\n",
      "   macro avg       0.46      0.32      0.34       425\n",
      "weighted avg       0.85      0.90      0.86       425\n",
      "\n"
     ]
    }
   ],
   "source": [
    "#Classification report\n",
    "from sklearn.metrics import classification_report\n",
    "print(classification_report(y_test,y_pred_rf))"
   ]
  },
  {
   "cell_type": "code",
   "execution_count": 65,
   "metadata": {
    "ExecuteTime": {
     "end_time": "2021-09-21T23:50:29.071430Z",
     "start_time": "2021-09-21T23:50:28.927607Z"
    }
   },
   "outputs": [
    {
     "data": {
      "text/plain": [
       "['./output/randomforest_model.pkl']"
      ]
     },
     "execution_count": 65,
     "metadata": {},
     "output_type": "execute_result"
    }
   ],
   "source": [
    "#save model in output directory\n",
    "import joblib\n",
    "joblib.dump(model_rf,'./output/randomforest_model.pkl')"
   ]
  },
  {
   "cell_type": "code",
   "execution_count": 73,
   "metadata": {
    "ExecuteTime": {
     "end_time": "2021-09-22T12:16:02.662656Z",
     "start_time": "2021-09-22T12:16:02.635813Z"
    }
   },
   "outputs": [
    {
     "name": "stdout",
     "output_type": "stream",
     "text": [
      "[[ 77.     1.     1.     2.     0.     0.   140.    80.   180.   100.\n",
      "    0.     1.     0.     1.     0.     0.     0.     4.7  138.     0.38\n",
      "    0.22   8.    16.     4.     0.     1.     1.     1.     0.     0.\n",
      "    1.     0.     0.     0.     0.  ]]\n"
     ]
    }
   ],
   "source": [
    "import numpy as np\n",
    "test_data = [77, 1, 1, 2, 0, 0, 140,80,180,100,0,1,0,1,0,0,0,4.7,138,0.38,0.22,8,16,4,0,1,1,1,0,0,1,0,0,0,0]\n",
    "\n",
    "#test_data =['77', '1', '1', '2', '0', '0', '140', '80', '180', '100', '0', '1', '0', '1', '0', '0', '0', '4.7', '138', '0.38', '0.22', '8', '16', '4', '0', '1', '1', '1', '0', '0', '1', '0', '0', '0']\n",
    "\n",
    "#convert test_data into numpy array\n",
    "test_data = np.array(test_data)\n",
    "#reshape\n",
    "test_data = test_data.reshape(1,-1)\n",
    "print(test_data)"
   ]
  },
  {
   "cell_type": "code",
   "execution_count": 74,
   "metadata": {
    "ExecuteTime": {
     "end_time": "2021-09-22T12:16:03.518939Z",
     "start_time": "2021-09-22T12:16:03.495629Z"
    }
   },
   "outputs": [],
   "source": [
    "#declare path where you saved your model\n",
    "outFileFolder = 'output/'\n",
    "filePath = outFileFolder + 'randomforest_model.pkl'\n",
    "#open file\n",
    "file = open(filePath, \"rb\")\n",
    "#load the trained model\n",
    "trained_model = joblib.load(file)"
   ]
  },
  {
   "cell_type": "code",
   "execution_count": 75,
   "metadata": {
    "ExecuteTime": {
     "end_time": "2021-09-22T12:16:04.361609Z",
     "start_time": "2021-09-22T12:16:04.334509Z"
    }
   },
   "outputs": [
    {
     "name": "stdout",
     "output_type": "stream",
     "text": [
      "[0.]\n"
     ]
    }
   ],
   "source": [
    "prediction = trained_model.predict(test_data)\n",
    "print(prediction)"
   ]
  },
  {
   "cell_type": "code",
   "execution_count": null,
   "metadata": {},
   "outputs": [],
   "source": []
  }
 ],
 "metadata": {
  "kernelspec": {
   "display_name": "Python 3",
   "language": "python",
   "name": "python3"
  },
  "language_info": {
   "codemirror_mode": {
    "name": "ipython",
    "version": 3
   },
   "file_extension": ".py",
   "mimetype": "text/x-python",
   "name": "python",
   "nbconvert_exporter": "python",
   "pygments_lexer": "ipython3",
   "version": "3.7.4"
  }
 },
 "nbformat": 4,
 "nbformat_minor": 2
}
